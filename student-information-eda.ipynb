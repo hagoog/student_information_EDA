{
 "cells": [
  {
   "cell_type": "markdown",
   "id": "0ac8f7fb",
   "metadata": {
    "papermill": {
     "duration": 0.005771,
     "end_time": "2024-12-06T19:13:37.431390",
     "exception": false,
     "start_time": "2024-12-06T19:13:37.425619",
     "status": "completed"
    },
    "tags": []
   },
   "source": [
    "# EDA Project Roadmap\r\n",
    "## 1. Introduction of the dataset and aim of the EDA\r\n",
    "    1. Dataset Introduction\r\n",
    "    2. Aim of the EDA\r\n",
    "## 2. Libraries setup and reading the data\r\n",
    "    1. pandas for data processing\r\n",
    "    2. numpy for mathematical operations\r\n",
    "    3. matplotlib.plotly, seaborn & plotly.express for data vizualisations (instead of tableau)\r\n",
    "## 3. get an overview and deep review of the data.\r\n",
    "    1. using info & describe functions\r\n",
    "    2. using head & tail functions to view the data\r\n",
    "## 4. Handling missing values and Data Structuring\r\n",
    "    1. Managing columns (Create, drop and rename)\r\n",
    "    2. changing the datatypes of the columns\r\n",
    "    3. using isull.sum # Count missing values per column\r\n",
    "    4. using heatmap sns.heatmap(data.isnull(), cbar=False)  # Visualize missing data\r\n",
    "    5. fill or drop missing values according to the dataset and logic.\r\n",
    "    6. check for outliets using sns.boxplot(x=data['column_name']) for numerical columns.\r\n",
    "## 5. Analysis and vizualisation of the data\r\n",
    "    1. using seaborn and matplotlib to provide detailed vizulaisations\r\n",
    "## 6. provide insights from vizualisations\r\n",
    "    1. prepare a summery report including the insights."
   ]
  },
  {
   "cell_type": "markdown",
   "id": "aa82ec6c",
   "metadata": {
    "papermill": {
     "duration": 0.004075,
     "end_time": "2024-12-06T19:13:37.440013",
     "exception": false,
     "start_time": "2024-12-06T19:13:37.435938",
     "status": "completed"
    },
    "tags": []
   },
   "source": [
    "# 1. **Introduction of the dataset and aim of the EDA**\n",
    "\n",
    "<img src='https://logos-world.net/wp-content/uploads/2020/11/Zomato-Logo.png'></img>\n",
    "\n",
    "## 1. **Dataset Introduction**\n",
    "\n",
    "The dataset being analyzed is from the <a href ='https://www.zomato.com/'>**Zomato Website**</a>, which contains information about restaurants, their locations, ratings, cuisines, and more. It includes **20,000+ records and 17 features**. Key variables in the dataset include **'Restaurant Name'**, **'Location'**, **'Cuisine'**, **'Average Cost for Two'**, and **'Rating'**.\n",
    "\n",
    "### Key Features:\n",
    "- **Restaurant Name**: Name of the restaurant (categorical).\n",
    "- **Location**: City or region where the restaurant is located (categorical).\n",
    "- **Cuisine**: Type of cuisine served (categorical).\n",
    "- **Average Cost for Two**: Average cost of a meal for two people (numeric).\n",
    "- **Rating**: Restaurant rating on Zomato (numeric).\n",
    "\n",
    "## 2. **Aim of the EDA**\n",
    "\n",
    "The primary aim of this **Exploratory Data Analysis (EDA)** is to explore the dataset and uncover patterns. Specifically, we will:\n",
    "1. Analyze the distribution of key variables (e.g., Ratings, Average Cost).\n",
    "2. Identify missing values and handle them.\n",
    "3. Investigate relationships between variables, such as the correlation between **Rating** and **Average Cost**.\n",
    "4. Detect any outliers or unusual patterns in restaurant ratings or costs.\n",
    "\n",
    "The insights from this EDA will help guide future modeling, such as predicting restaurant ratings or identifying factors influencing restaurant success.ing restaurant success."
   ]
  },
  {
   "cell_type": "markdown",
   "id": "f4fee000",
   "metadata": {
    "papermill": {
     "duration": 0.004086,
     "end_time": "2024-12-06T19:13:37.448317",
     "exception": false,
     "start_time": "2024-12-06T19:13:37.444231",
     "status": "completed"
    },
    "tags": []
   },
   "source": [
    "# 2. **Libraries setup and reading the data**"
   ]
  },
  {
   "cell_type": "code",
   "execution_count": 1,
   "id": "ecc85bc3",
   "metadata": {
    "execution": {
     "iopub.execute_input": "2024-12-06T19:13:37.462967Z",
     "iopub.status.busy": "2024-12-06T19:13:37.462437Z",
     "iopub.status.idle": "2024-12-06T19:13:49.345797Z",
     "shell.execute_reply": "2024-12-06T19:13:49.344606Z"
    },
    "papermill": {
     "duration": 11.893606,
     "end_time": "2024-12-06T19:13:49.348487",
     "exception": false,
     "start_time": "2024-12-06T19:13:37.454881",
     "status": "completed"
    },
    "tags": []
   },
   "outputs": [
    {
     "name": "stdout",
     "output_type": "stream",
     "text": [
      "Requirement already satisfied: missingno in /opt/conda/lib/python3.10/site-packages (0.5.2)\r\n",
      "Requirement already satisfied: numpy in /opt/conda/lib/python3.10/site-packages (from missingno) (1.26.4)\r\n",
      "Requirement already satisfied: matplotlib in /opt/conda/lib/python3.10/site-packages (from missingno) (3.7.5)\r\n",
      "Requirement already satisfied: scipy in /opt/conda/lib/python3.10/site-packages (from missingno) (1.14.1)\r\n",
      "Requirement already satisfied: seaborn in /opt/conda/lib/python3.10/site-packages (from missingno) (0.12.2)\r\n",
      "Requirement already satisfied: contourpy>=1.0.1 in /opt/conda/lib/python3.10/site-packages (from matplotlib->missingno) (1.2.1)\r\n",
      "Requirement already satisfied: cycler>=0.10 in /opt/conda/lib/python3.10/site-packages (from matplotlib->missingno) (0.12.1)\r\n",
      "Requirement already satisfied: fonttools>=4.22.0 in /opt/conda/lib/python3.10/site-packages (from matplotlib->missingno) (4.53.0)\r\n",
      "Requirement already satisfied: kiwisolver>=1.0.1 in /opt/conda/lib/python3.10/site-packages (from matplotlib->missingno) (1.4.5)\r\n",
      "Requirement already satisfied: packaging>=20.0 in /opt/conda/lib/python3.10/site-packages (from matplotlib->missingno) (21.3)\r\n",
      "Requirement already satisfied: pillow>=6.2.0 in /opt/conda/lib/python3.10/site-packages (from matplotlib->missingno) (10.3.0)\r\n",
      "Requirement already satisfied: pyparsing>=2.3.1 in /opt/conda/lib/python3.10/site-packages (from matplotlib->missingno) (3.1.2)\r\n",
      "Requirement already satisfied: python-dateutil>=2.7 in /opt/conda/lib/python3.10/site-packages (from matplotlib->missingno) (2.9.0.post0)\r\n",
      "Requirement already satisfied: pandas>=0.25 in /opt/conda/lib/python3.10/site-packages (from seaborn->missingno) (2.2.3)\r\n",
      "Requirement already satisfied: pytz>=2020.1 in /opt/conda/lib/python3.10/site-packages (from pandas>=0.25->seaborn->missingno) (2024.1)\r\n",
      "Requirement already satisfied: tzdata>=2022.7 in /opt/conda/lib/python3.10/site-packages (from pandas>=0.25->seaborn->missingno) (2024.1)\r\n",
      "Requirement already satisfied: six>=1.5 in /opt/conda/lib/python3.10/site-packages (from python-dateutil>=2.7->matplotlib->missingno) (1.16.0)\r\n"
     ]
    }
   ],
   "source": [
    "#Missingno helps you identify, visualize, and understand missing data patterns in your dataset, enabling you to make informed decisions about how to handle missing values during preprocessing.\n",
    "!pip install missingno"
   ]
  },
  {
   "cell_type": "code",
   "execution_count": 2,
   "id": "adba63a3",
   "metadata": {
    "_cell_guid": "b1076dfc-b9ad-4769-8c92-a6c4dae69d19",
    "_uuid": "8f2839f25d086af736a60e9eeb907d3b93b6e0e5",
    "execution": {
     "iopub.execute_input": "2024-12-06T19:13:49.360688Z",
     "iopub.status.busy": "2024-12-06T19:13:49.360249Z",
     "iopub.status.idle": "2024-12-06T19:13:51.990072Z",
     "shell.execute_reply": "2024-12-06T19:13:51.988878Z"
    },
    "papermill": {
     "duration": 2.639114,
     "end_time": "2024-12-06T19:13:51.992385",
     "exception": false,
     "start_time": "2024-12-06T19:13:49.353271",
     "status": "completed"
    },
    "tags": []
   },
   "outputs": [
    {
     "name": "stdout",
     "output_type": "stream",
     "text": [
      "/kaggle/input/student-information-dataset/students.csv\n"
     ]
    }
   ],
   "source": [
    "# This Python 3 environment comes with many helpful analytics libraries installed\n",
    "# It is defined by the kaggle/python Docker image: https://github.com/kaggle/docker-python\n",
    "# For example, here's several helpful packages to load\n",
    "\n",
    "# Base libraries\n",
    "import time\n",
    "# #Function: Provides time-related functions, like time.sleep() for pausing execution, time.time() for getting the current time in seconds, and various ways to measure time intervals.\n",
    "# When to Keep: Useful if you're timing certain processes (e.g., performance analysis).\n",
    "# Can Disregard?: If you're not measuring execution time or working with time-related functionality in your analysis, you can safely omit it.\n",
    "\n",
    "#import datetime\n",
    "# Function: Provides classes for manipulating dates and times, such as datetime.datetime and datetime.timedelta. You can easily perform operations like adding days to a date or comparing two timestamps.\n",
    "# When to Keep: If your data involves timestamps or you need to perform date/time manipulations, keep this.\n",
    "# Can Disregard?: If you don't need to work with dates or times explicitly, you can disregard it.\n",
    "\n",
    "#import os\n",
    "# Function: Allows interaction with the operating system, such as navigating file directories, checking for files, or working with environment variables.\n",
    "# When to Keep: If your workflow requires file management (reading/writing files, checking file paths), you should keep this.\n",
    "# Can Disregard?: If you don't need to interact with the filesystem, you can discard this.\n",
    "\n",
    "# Scientific libraries\n",
    "import numpy as np\n",
    "# Function: Core scientific computing library in Python. Provides support for large multi-dimensional arrays and matrices, along with a variety of mathematical functions to operate on them.\n",
    "# When to Keep: Essential for numerical operations, array manipulation, statistical calculations, etc.\n",
    "# Can Disregard?: It’s unlikely you’ll discard this unless you're working with data in only Pandas DataFrames and don’t need arrays or advanced math operations.\n",
    "\n",
    "import pandas as pd\n",
    "# Function: Provides data structures like DataFrame and Series for data manipulation, especially useful for handling structured data (e.g., CSVs, databases).\n",
    "# When to Keep: Critical for most EDA tasks. Essential for handling tabular data, cleaning, and analyzing it.\n",
    "# Can Disregard?: Rarely will you discard this, unless you’re not working with structured data (e.g., JSON, XML) and you use only basic Python data structures.\n",
    "\n",
    "#from empiricaldist import Cdf, Pmf\n",
    "# Function: Provides tools for working with empirical distributions. Cdf is the cumulative distribution function, and Pmf is the probability mass function, both useful for visualizing and analyzing data distributions.\n",
    "# When to Keep: Keep if you're working with empirical distributions and need advanced plotting/analysis of how data is distributed (e.g., histogram analysis, KDEs).\n",
    "# Can Disregard?: If you don’t need to perform statistical distribution analysis or advanced visualizations, you can discard this.\n",
    "\n",
    "# Visual libraries\n",
    "import matplotlib.pyplot as plt\n",
    "# Function: The core library for creating static, animated, and interactive visualizations in Python.\n",
    "# When to Keep: Essential for basic plotting (line plots, bar plots, histograms).\n",
    "# Can Disregard?: Unlikely to discard if you need any form of visualizations, but if you prefer using Seaborn or other libraries exclusively, you might omit this (though Seaborn internally uses Matplotlib).\n",
    "\n",
    "#from matplotlib import rcParams\n",
    "# Function: Allows you to customize the default settings of Matplotlib plots, such as figure size, font size, axis labels, etc.\n",
    "# When to Keep: Useful for setting global style preferences and improving plot readability. Essential for customizing the appearance of your visualizations.\n",
    "# Can Disregard?: If you're fine with default Matplotlib settings and don’t need advanced plot customizations, you can skip this.\n",
    "\n",
    "import seaborn as sns\n",
    "# Function: A high-level interface for creating attractive statistical plots built on top of Matplotlib. It’s especially great for visualizing relationships between variables, distributions, and categorical data.\n",
    "# When to Keep: Highly recommended for creating aesthetic and informative plots. It's much easier to use than raw Matplotlib for many common plot types.\n",
    "# Can Disregard?: Only if you prefer using other visualization libraries (e.g., Plotly, or Matplotlib only), but Seaborn is generally a good choice for EDA.\n",
    "\n",
    "import missingno as msno  # Visualize missing values\n",
    "# Function: A specialized library for visualizing missing data. It helps you quickly assess patterns and relationships of missingness in your dataset.\n",
    "# When to Keep: Extremely useful during EDA if your data has missing values. It simplifies the process of understanding and visualizing missing data.\n",
    "# Can Disregard?: If you don’t have missing data or plan to handle it using other methods, you might not need this.\n",
    "\n",
    "# Helper libraries\n",
    "#from tqdm.notebook import tqdm, trange\n",
    "# Function: Provides progress bars for loops in Jupyter notebooks, making it easier to track long-running computations.\n",
    "# When to Keep: Useful if you're performing long-running tasks like data processing or training machine learning models.\n",
    "# Can Disregard?: If your workflow doesn’t involve long-running tasks or you don’t need progress bars, you can discard this.\n",
    "\n",
    "#from colorama import Fore, Back, Style\n",
    "# Function: Provides cross-platform support for colored terminal text output (useful for adding color to print statements in the terminal).\n",
    "# When to Keep: Useful if you want to style terminal outputs for better readability (e.g., for debugging or logging).\n",
    "# Can Disregard?: If you don't need colored text output in the terminal, you can omit this.\n",
    "\n",
    "import warnings\n",
    "warnings.filterwarnings('ignore')\n",
    "# Function: Used to manage warnings. warnings.filterwarnings('ignore') suppresses warnings, often used in notebooks or scripts to keep output clean.\n",
    "# When to Keep: Useful if you want to suppress non-critical warnings during your analysis (for example, ignoring warnings about deprecated functions).\n",
    "# Can Disregard?: If you prefer to see warnings or don't mind them, you can omit this.\n",
    "\n",
    "# Visual setup\n",
    "#import matplotlib.ticker as ticker\n",
    "# Function: Provides tools for customizing the tick marks and labels of Matplotlib plots (e.g., controlling the appearance of axis labels and tick intervals).\n",
    "# When to Keep: Useful for advanced control over tick marks (e.g., making ticks more readable or changing their frequency).\n",
    "# Can Disregard?: If you're okay with the default tick settings in your plots, you can omit this.\n",
    "\n",
    "#plt.style.use('ggplot')\n",
    "# Function: Applies the ggplot2 style (a popular R plotting style) to Matplotlib plots, giving them a more polished, aesthetically-pleasing appearance.\n",
    "# When to Keep: Useful for improving the visual style of your plots without needing to manually adjust settings.\n",
    "# Can Disregard?: If you don’t need this specific style or are happy with the default Matplotlib style, you can skip it.\n",
    "\n",
    "# rcParams['axes.spines.right'] = False\n",
    "# rcParams['axes.spines.top'] = False\n",
    "# rcParams['figure.figsize'] = [12, 9]\n",
    "# rcParams['font.size'] = 16\n",
    "# plt.rc('xtick', labelsize=12)\n",
    "# plt.rc('ytick', labelsize=12)\n",
    "# Function: These commands customize global settings for Matplotlib to control figure size, font size, and axes spines.\n",
    "# When to Keep: Essential if you want specific control over the appearance of all plots.\n",
    "# Can Disregard?: If you don't need specific customizations, you can omit them.\n",
    "\n",
    "# custom_colors = ['#74a09e','#86c1b2','#98e2c6','#f3c969','#f2a553', '#d96548', '#c14953']\n",
    "# sns.set_palette(custom_colors)\n",
    "# %config InlineBackend.figure_format = 'retina'\n",
    "# %config Completer.use_jedi = False\n",
    "# Function: Sets the color palette for Seaborn plots.\n",
    "# When to Keep: If you want to set a custom color palette to maintain consistency in your plots.\n",
    "# Can Disregard?: If you're fine with the default Seaborn palette, you can omit this.\n",
    "\n",
    "# Pandas options\n",
    "#pd.set_option('max_colwidth', 40)\n",
    "# Function: Sets the maximum column width in Pandas DataFrame display (helpful for wide text fields).\n",
    "# When to Keep: Useful when displaying large text columns (e.g., in Jupyter Notebooks).\n",
    "# Can Disregard?: If you're not displaying wide columns or are fine with the default settings, you can omit this.\n",
    "\n",
    "pd.options.display.max_columns = None  # Possible to limit\n",
    "# Function: Allows displaying all columns in a Pandas DataFrame.\n",
    "# When to Keep: Useful when you want to see all columns, especially in large DataFrames.\n",
    "# Can Disregard?: If you're okay with limiting the number of columns displayed, you can omit this.\n",
    "\n",
    "#from IPython.core.interactiveshell import InteractiveShell\n",
    "#InteractiveShell.ast_node_interactivity = 'all'\n",
    "# Function: Controls the interactive shell behavior, such as enabling the display of all output from the last expression in a cell (for Jupyter).\n",
    "# When to Keep: Useful in Jupyter Notebooks if you want all expressions in a cell to be printed (not just the last one).\n",
    "# Can Disregard?: If you're not using Jupyter or don’t need this behavior, you can omit it.\n",
    "\n",
    "# Seed value for numpy.random\n",
    "np.random.seed(42)\n",
    "\n",
    "# Input data files are available in the read-only \"../input/\" directory\n",
    "# For example, running this (by clicking run or pressing Shift+Enter) will list all files under the input directory\n",
    "\n",
    "import os\n",
    "for dirname, _, filenames in os.walk('/kaggle/input'):\n",
    "    for filename in filenames:\n",
    "        print(os.path.join(dirname, filename))\n",
    "\n",
    "# You can write up to 20GB to the current directory (/kaggle/working/) that gets preserved as output when you create a version using \"Save & Run All\" \n",
    "# You can also write temporary files to /kaggle/temp/, but they won't be saved outside of the current session"
   ]
  },
  {
   "cell_type": "code",
   "execution_count": 3,
   "id": "3155ed57",
   "metadata": {
    "execution": {
     "iopub.execute_input": "2024-12-06T19:13:52.004364Z",
     "iopub.status.busy": "2024-12-06T19:13:52.003851Z",
     "iopub.status.idle": "2024-12-06T19:13:52.020311Z",
     "shell.execute_reply": "2024-12-06T19:13:52.019265Z"
    },
    "papermill": {
     "duration": 0.024402,
     "end_time": "2024-12-06T19:13:52.022579",
     "exception": false,
     "start_time": "2024-12-06T19:13:51.998177",
     "status": "completed"
    },
    "tags": []
   },
   "outputs": [],
   "source": [
    "#Reading the data\n",
    "df_raw = pd.read_csv('/kaggle/input/student-information-dataset/students.csv')"
   ]
  },
  {
   "cell_type": "markdown",
   "id": "370a20a8",
   "metadata": {
    "papermill": {
     "duration": 0.004421,
     "end_time": "2024-12-06T19:13:52.031775",
     "exception": false,
     "start_time": "2024-12-06T19:13:52.027354",
     "status": "completed"
    },
    "tags": []
   },
   "source": [
    "# 3. **get an overview and deep review of the data.**"
   ]
  },
  {
   "cell_type": "code",
   "execution_count": 4,
   "id": "6ef5a2b0",
   "metadata": {
    "execution": {
     "iopub.execute_input": "2024-12-06T19:13:52.043108Z",
     "iopub.status.busy": "2024-12-06T19:13:52.042711Z",
     "iopub.status.idle": "2024-12-06T19:13:52.066193Z",
     "shell.execute_reply": "2024-12-06T19:13:52.065041Z"
    },
    "papermill": {
     "duration": 0.031993,
     "end_time": "2024-12-06T19:13:52.068537",
     "exception": false,
     "start_time": "2024-12-06T19:13:52.036544",
     "status": "completed"
    },
    "tags": []
   },
   "outputs": [
    {
     "data": {
      "text/html": [
       "<div>\n",
       "<style scoped>\n",
       "    .dataframe tbody tr th:only-of-type {\n",
       "        vertical-align: middle;\n",
       "    }\n",
       "\n",
       "    .dataframe tbody tr th {\n",
       "        vertical-align: top;\n",
       "    }\n",
       "\n",
       "    .dataframe thead th {\n",
       "        text-align: right;\n",
       "    }\n",
       "</style>\n",
       "<table border=\"1\" class=\"dataframe\">\n",
       "  <thead>\n",
       "    <tr style=\"text-align: right;\">\n",
       "      <th></th>\n",
       "      <th>StudentID</th>\n",
       "      <th>Name</th>\n",
       "      <th>Age</th>\n",
       "      <th>Email</th>\n",
       "      <th>Department</th>\n",
       "      <th>GPA</th>\n",
       "      <th>GraduationYear</th>\n",
       "    </tr>\n",
       "  </thead>\n",
       "  <tbody>\n",
       "    <tr>\n",
       "      <th>0</th>\n",
       "      <td>3336</td>\n",
       "      <td>David Palmer</td>\n",
       "      <td>19</td>\n",
       "      <td>sean43@hotmail.com</td>\n",
       "      <td>Mathematics</td>\n",
       "      <td>3.16</td>\n",
       "      <td>2026</td>\n",
       "    </tr>\n",
       "    <tr>\n",
       "      <th>1</th>\n",
       "      <td>8774</td>\n",
       "      <td>Andrew Roach</td>\n",
       "      <td>23</td>\n",
       "      <td>vbecker@harvey.com</td>\n",
       "      <td>Chemistry</td>\n",
       "      <td>3.75</td>\n",
       "      <td>2027</td>\n",
       "    </tr>\n",
       "    <tr>\n",
       "      <th>2</th>\n",
       "      <td>1396</td>\n",
       "      <td>Jonathan Gonzalez</td>\n",
       "      <td>22</td>\n",
       "      <td>hollydavis@gmail.com</td>\n",
       "      <td>Physics</td>\n",
       "      <td>2.95</td>\n",
       "      <td>2027</td>\n",
       "    </tr>\n",
       "    <tr>\n",
       "      <th>3</th>\n",
       "      <td>6716</td>\n",
       "      <td>Kenneth Morrow</td>\n",
       "      <td>24</td>\n",
       "      <td>ganderson@wheeler-atkins.info</td>\n",
       "      <td>Physics</td>\n",
       "      <td>3.55</td>\n",
       "      <td>2029</td>\n",
       "    </tr>\n",
       "    <tr>\n",
       "      <th>4</th>\n",
       "      <td>8830</td>\n",
       "      <td>Kaitlyn Martinez</td>\n",
       "      <td>18</td>\n",
       "      <td>hayesdiane@gmail.com</td>\n",
       "      <td>Chemistry</td>\n",
       "      <td>2.29</td>\n",
       "      <td>2025</td>\n",
       "    </tr>\n",
       "  </tbody>\n",
       "</table>\n",
       "</div>"
      ],
      "text/plain": [
       "   StudentID               Name  Age                          Email  \\\n",
       "0       3336       David Palmer   19             sean43@hotmail.com   \n",
       "1       8774       Andrew Roach   23             vbecker@harvey.com   \n",
       "2       1396  Jonathan Gonzalez   22           hollydavis@gmail.com   \n",
       "3       6716     Kenneth Morrow   24  ganderson@wheeler-atkins.info   \n",
       "4       8830   Kaitlyn Martinez   18           hayesdiane@gmail.com   \n",
       "\n",
       "    Department   GPA  GraduationYear  \n",
       "0  Mathematics  3.16            2026  \n",
       "1    Chemistry  3.75            2027  \n",
       "2      Physics  2.95            2027  \n",
       "3      Physics  3.55            2029  \n",
       "4    Chemistry  2.29            2025  "
      ]
     },
     "execution_count": 4,
     "metadata": {},
     "output_type": "execute_result"
    }
   ],
   "source": [
    "df_raw.head()"
   ]
  },
  {
   "cell_type": "code",
   "execution_count": 5,
   "id": "fe48bd84",
   "metadata": {
    "execution": {
     "iopub.execute_input": "2024-12-06T19:13:52.080435Z",
     "iopub.status.busy": "2024-12-06T19:13:52.080031Z",
     "iopub.status.idle": "2024-12-06T19:13:52.106493Z",
     "shell.execute_reply": "2024-12-06T19:13:52.105251Z"
    },
    "papermill": {
     "duration": 0.035164,
     "end_time": "2024-12-06T19:13:52.108933",
     "exception": false,
     "start_time": "2024-12-06T19:13:52.073769",
     "status": "completed"
    },
    "tags": []
   },
   "outputs": [
    {
     "name": "stdout",
     "output_type": "stream",
     "text": [
      "<class 'pandas.core.frame.DataFrame'>\n",
      "RangeIndex: 200 entries, 0 to 199\n",
      "Data columns (total 7 columns):\n",
      " #   Column          Non-Null Count  Dtype  \n",
      "---  ------          --------------  -----  \n",
      " 0   StudentID       200 non-null    int64  \n",
      " 1   Name            200 non-null    object \n",
      " 2   Age             200 non-null    int64  \n",
      " 3   Email           200 non-null    object \n",
      " 4   Department      200 non-null    object \n",
      " 5   GPA             200 non-null    float64\n",
      " 6   GraduationYear  200 non-null    int64  \n",
      "dtypes: float64(1), int64(3), object(3)\n",
      "memory usage: 11.1+ KB\n"
     ]
    }
   ],
   "source": [
    "df_raw.info()\n",
    "#no null values.\n",
    "# the dtypes are correct."
   ]
  },
  {
   "cell_type": "code",
   "execution_count": 6,
   "id": "151baca5",
   "metadata": {
    "execution": {
     "iopub.execute_input": "2024-12-06T19:13:52.120449Z",
     "iopub.status.busy": "2024-12-06T19:13:52.120061Z",
     "iopub.status.idle": "2024-12-06T19:13:52.142690Z",
     "shell.execute_reply": "2024-12-06T19:13:52.141545Z"
    },
    "papermill": {
     "duration": 0.031004,
     "end_time": "2024-12-06T19:13:52.144966",
     "exception": false,
     "start_time": "2024-12-06T19:13:52.113962",
     "status": "completed"
    },
    "tags": []
   },
   "outputs": [
    {
     "data": {
      "text/html": [
       "<div>\n",
       "<style scoped>\n",
       "    .dataframe tbody tr th:only-of-type {\n",
       "        vertical-align: middle;\n",
       "    }\n",
       "\n",
       "    .dataframe tbody tr th {\n",
       "        vertical-align: top;\n",
       "    }\n",
       "\n",
       "    .dataframe thead th {\n",
       "        text-align: right;\n",
       "    }\n",
       "</style>\n",
       "<table border=\"1\" class=\"dataframe\">\n",
       "  <thead>\n",
       "    <tr style=\"text-align: right;\">\n",
       "      <th></th>\n",
       "      <th>Age</th>\n",
       "      <th>GPA</th>\n",
       "    </tr>\n",
       "  </thead>\n",
       "  <tbody>\n",
       "    <tr>\n",
       "      <th>count</th>\n",
       "      <td>200.000000</td>\n",
       "      <td>200.00000</td>\n",
       "    </tr>\n",
       "    <tr>\n",
       "      <th>mean</th>\n",
       "      <td>21.580000</td>\n",
       "      <td>3.02785</td>\n",
       "    </tr>\n",
       "    <tr>\n",
       "      <th>std</th>\n",
       "      <td>2.267002</td>\n",
       "      <td>0.59112</td>\n",
       "    </tr>\n",
       "    <tr>\n",
       "      <th>min</th>\n",
       "      <td>18.000000</td>\n",
       "      <td>2.00000</td>\n",
       "    </tr>\n",
       "    <tr>\n",
       "      <th>25%</th>\n",
       "      <td>20.000000</td>\n",
       "      <td>2.52500</td>\n",
       "    </tr>\n",
       "    <tr>\n",
       "      <th>50%</th>\n",
       "      <td>22.000000</td>\n",
       "      <td>3.08000</td>\n",
       "    </tr>\n",
       "    <tr>\n",
       "      <th>75%</th>\n",
       "      <td>24.000000</td>\n",
       "      <td>3.51000</td>\n",
       "    </tr>\n",
       "    <tr>\n",
       "      <th>max</th>\n",
       "      <td>25.000000</td>\n",
       "      <td>3.99000</td>\n",
       "    </tr>\n",
       "  </tbody>\n",
       "</table>\n",
       "</div>"
      ],
      "text/plain": [
       "              Age        GPA\n",
       "count  200.000000  200.00000\n",
       "mean    21.580000    3.02785\n",
       "std      2.267002    0.59112\n",
       "min     18.000000    2.00000\n",
       "25%     20.000000    2.52500\n",
       "50%     22.000000    3.08000\n",
       "75%     24.000000    3.51000\n",
       "max     25.000000    3.99000"
      ]
     },
     "execution_count": 6,
     "metadata": {},
     "output_type": "execute_result"
    }
   ],
   "source": [
    "df_raw[['Age', 'GPA']].describe()"
   ]
  },
  {
   "cell_type": "code",
   "execution_count": 7,
   "id": "0dd9bdb1",
   "metadata": {
    "execution": {
     "iopub.execute_input": "2024-12-06T19:13:52.157545Z",
     "iopub.status.busy": "2024-12-06T19:13:52.157189Z",
     "iopub.status.idle": "2024-12-06T19:13:52.886123Z",
     "shell.execute_reply": "2024-12-06T19:13:52.884916Z"
    },
    "papermill": {
     "duration": 0.738232,
     "end_time": "2024-12-06T19:13:52.888792",
     "exception": false,
     "start_time": "2024-12-06T19:13:52.150560",
     "status": "completed"
    },
    "tags": []
   },
   "outputs": [
    {
     "data": {
      "image/png": "[encoded data removed]",
      "text/plain": [
       "<Figure size 2500x1000 with 2 Axes>"
      ]
     },
     "metadata": {},
     "output_type": "display_data"
    }
   ],
   "source": [
    "# visualize missing values\n",
    "msno.matrix(df_raw);\n",
    "# no missing values"
   ]
  },
  {
   "cell_type": "code",
   "execution_count": 8,
   "id": "3613c129",
   "metadata": {
    "execution": {
     "iopub.execute_input": "2024-12-06T19:13:52.902952Z",
     "iopub.status.busy": "2024-12-06T19:13:52.902188Z",
     "iopub.status.idle": "2024-12-06T19:13:53.183212Z",
     "shell.execute_reply": "2024-12-06T19:13:53.182141Z"
    },
    "papermill": {
     "duration": 0.290243,
     "end_time": "2024-12-06T19:13:53.185288",
     "exception": false,
     "start_time": "2024-12-06T19:13:52.895045",
     "status": "completed"
    },
    "tags": []
   },
   "outputs": [
    {
     "data": {
      "image/png": "[encoded data removed]",
      "text/plain": [
       "<Figure size 2000x1200 with 2 Axes>"
      ]
     },
     "metadata": {},
     "output_type": "display_data"
    }
   ],
   "source": [
    "msno.heatmap(df_raw, cmap='rainbow');"
   ]
  },
  {
   "cell_type": "code",
   "execution_count": 9,
   "id": "9e4dbde7",
   "metadata": {
    "execution": {
     "iopub.execute_input": "2024-12-06T19:13:53.199459Z",
     "iopub.status.busy": "2024-12-06T19:13:53.199077Z",
     "iopub.status.idle": "2024-12-06T19:13:53.211867Z",
     "shell.execute_reply": "2024-12-06T19:13:53.210665Z"
    },
    "papermill": {
     "duration": 0.0224,
     "end_time": "2024-12-06T19:13:53.214100",
     "exception": false,
     "start_time": "2024-12-06T19:13:53.191700",
     "status": "completed"
    },
    "tags": []
   },
   "outputs": [
    {
     "data": {
      "text/html": [
       "<div>\n",
       "<style scoped>\n",
       "    .dataframe tbody tr th:only-of-type {\n",
       "        vertical-align: middle;\n",
       "    }\n",
       "\n",
       "    .dataframe tbody tr th {\n",
       "        vertical-align: top;\n",
       "    }\n",
       "\n",
       "    .dataframe thead th {\n",
       "        text-align: right;\n",
       "    }\n",
       "</style>\n",
       "<table border=\"1\" class=\"dataframe\">\n",
       "  <thead>\n",
       "    <tr style=\"text-align: right;\">\n",
       "      <th></th>\n",
       "      <th>StudentID</th>\n",
       "      <th>Name</th>\n",
       "      <th>Age</th>\n",
       "      <th>Email</th>\n",
       "      <th>Department</th>\n",
       "      <th>GPA</th>\n",
       "      <th>GraduationYear</th>\n",
       "    </tr>\n",
       "  </thead>\n",
       "  <tbody>\n",
       "    <tr>\n",
       "      <th>0</th>\n",
       "      <td>3336</td>\n",
       "      <td>David Palmer</td>\n",
       "      <td>19</td>\n",
       "      <td>sean43@hotmail.com</td>\n",
       "      <td>Mathematics</td>\n",
       "      <td>3.16</td>\n",
       "      <td>2026</td>\n",
       "    </tr>\n",
       "    <tr>\n",
       "      <th>1</th>\n",
       "      <td>8774</td>\n",
       "      <td>Andrew Roach</td>\n",
       "      <td>23</td>\n",
       "      <td>vbecker@harvey.com</td>\n",
       "      <td>Chemistry</td>\n",
       "      <td>3.75</td>\n",
       "      <td>2027</td>\n",
       "    </tr>\n",
       "    <tr>\n",
       "      <th>2</th>\n",
       "      <td>1396</td>\n",
       "      <td>Jonathan Gonzalez</td>\n",
       "      <td>22</td>\n",
       "      <td>hollydavis@gmail.com</td>\n",
       "      <td>Physics</td>\n",
       "      <td>2.95</td>\n",
       "      <td>2027</td>\n",
       "    </tr>\n",
       "    <tr>\n",
       "      <th>3</th>\n",
       "      <td>6716</td>\n",
       "      <td>Kenneth Morrow</td>\n",
       "      <td>24</td>\n",
       "      <td>ganderson@wheeler-atkins.info</td>\n",
       "      <td>Physics</td>\n",
       "      <td>3.55</td>\n",
       "      <td>2029</td>\n",
       "    </tr>\n",
       "    <tr>\n",
       "      <th>4</th>\n",
       "      <td>8830</td>\n",
       "      <td>Kaitlyn Martinez</td>\n",
       "      <td>18</td>\n",
       "      <td>hayesdiane@gmail.com</td>\n",
       "      <td>Chemistry</td>\n",
       "      <td>2.29</td>\n",
       "      <td>2025</td>\n",
       "    </tr>\n",
       "  </tbody>\n",
       "</table>\n",
       "</div>"
      ],
      "text/plain": [
       "   StudentID               Name  Age                          Email  \\\n",
       "0       3336       David Palmer   19             sean43@hotmail.com   \n",
       "1       8774       Andrew Roach   23             vbecker@harvey.com   \n",
       "2       1396  Jonathan Gonzalez   22           hollydavis@gmail.com   \n",
       "3       6716     Kenneth Morrow   24  ganderson@wheeler-atkins.info   \n",
       "4       8830   Kaitlyn Martinez   18           hayesdiane@gmail.com   \n",
       "\n",
       "    Department   GPA  GraduationYear  \n",
       "0  Mathematics  3.16            2026  \n",
       "1    Chemistry  3.75            2027  \n",
       "2      Physics  2.95            2027  \n",
       "3      Physics  3.55            2029  \n",
       "4    Chemistry  2.29            2025  "
      ]
     },
     "execution_count": 9,
     "metadata": {},
     "output_type": "execute_result"
    }
   ],
   "source": [
    "df_raw.head()"
   ]
  },
  {
   "cell_type": "markdown",
   "id": "03c4ec20",
   "metadata": {
    "papermill": {
     "duration": 0.006199,
     "end_time": "2024-12-06T19:13:53.226881",
     "exception": false,
     "start_time": "2024-12-06T19:13:53.220682",
     "status": "completed"
    },
    "tags": []
   },
   "source": [
    "### From the above, the below steps will be required to effectivley clean the data and prepare for further analysis\n",
    "    1. change column names to appropriate names\n",
    "    2. check for any extra white spaces and remove them.\n",
    "    3. create a new dataframe for the student contact including columns (ID,Name, Age, Email).\n",
    "    4. Drop contact columns from the original dataframe except (Name, Age) columns.\n",
    "    5. Create new column (Graduation_age) which is the age of student when graduating.\n",
    "s"
   ]
  },
  {
   "cell_type": "markdown",
   "id": "0fee3345",
   "metadata": {
    "papermill": {
     "duration": 0.006008,
     "end_time": "2024-12-06T19:13:53.239313",
     "exception": false,
     "start_time": "2024-12-06T19:13:53.233305",
     "status": "completed"
    },
    "tags": []
   },
   "source": [
    "## 4. Handling missing values and Data Structuring"
   ]
  },
  {
   "cell_type": "markdown",
   "id": "0fcf7a10",
   "metadata": {
    "papermill": {
     "duration": 0.00594,
     "end_time": "2024-12-06T19:13:53.251600",
     "exception": false,
     "start_time": "2024-12-06T19:13:53.245660",
     "status": "completed"
    },
    "tags": []
   },
   "source": [
    "### 4.1. Change column names to appropriate names."
   ]
  },
  {
   "cell_type": "code",
   "execution_count": 10,
   "id": "de25c593",
   "metadata": {
    "execution": {
     "iopub.execute_input": "2024-12-06T19:13:53.265892Z",
     "iopub.status.busy": "2024-12-06T19:13:53.265496Z",
     "iopub.status.idle": "2024-12-06T19:13:53.272439Z",
     "shell.execute_reply": "2024-12-06T19:13:53.271351Z"
    },
    "papermill": {
     "duration": 0.016545,
     "end_time": "2024-12-06T19:13:53.274522",
     "exception": false,
     "start_time": "2024-12-06T19:13:53.257977",
     "status": "completed"
    },
    "tags": []
   },
   "outputs": [
    {
     "data": {
      "text/plain": [
       "Index(['StudentID', 'Name', 'Age', 'Email', 'Department', 'GPA',\n",
       "       'GraduationYear'],\n",
       "      dtype='object')"
      ]
     },
     "execution_count": 10,
     "metadata": {},
     "output_type": "execute_result"
    }
   ],
   "source": [
    "df_raw.columns"
   ]
  },
  {
   "cell_type": "code",
   "execution_count": 11,
   "id": "5caf7c8e",
   "metadata": {
    "execution": {
     "iopub.execute_input": "2024-12-06T19:13:53.289385Z",
     "iopub.status.busy": "2024-12-06T19:13:53.288922Z",
     "iopub.status.idle": "2024-12-06T19:13:53.295028Z",
     "shell.execute_reply": "2024-12-06T19:13:53.293916Z"
    },
    "papermill": {
     "duration": 0.016108,
     "end_time": "2024-12-06T19:13:53.297239",
     "exception": false,
     "start_time": "2024-12-06T19:13:53.281131",
     "status": "completed"
    },
    "tags": []
   },
   "outputs": [],
   "source": [
    "#make a copy of the dataframe to keeo the original\n",
    "df = df_raw.copy()"
   ]
  },
  {
   "cell_type": "code",
   "execution_count": 12,
   "id": "bc334cce",
   "metadata": {
    "execution": {
     "iopub.execute_input": "2024-12-06T19:13:53.312323Z",
     "iopub.status.busy": "2024-12-06T19:13:53.311940Z",
     "iopub.status.idle": "2024-12-06T19:13:53.318307Z",
     "shell.execute_reply": "2024-12-06T19:13:53.317162Z"
    },
    "papermill": {
     "duration": 0.016787,
     "end_time": "2024-12-06T19:13:53.320692",
     "exception": false,
     "start_time": "2024-12-06T19:13:53.303905",
     "status": "completed"
    },
    "tags": []
   },
   "outputs": [],
   "source": [
    "# Create a dictionary to map old column names to new ones\n",
    "new_column_names = {\n",
    "    'StudentID': 'student_ID',\n",
    "    'Name': 'student_name',\n",
    "    'Age': 'student_age',\n",
    "    'Email': 'student_email',\n",
    "    'Department': 'major',\n",
    "    'rate': 'restaurant_rating',\n",
    "    'votes': 'votes_count',\n",
    "    'phone': 'contact_number',\n",
    "    'location': 'restaurant_location',\n",
    "    'rest_type': 'restaurant_type',\n",
    "    'dish_liked': 'popular_dishes',\n",
    "    'cuisines': 'cuisine_types',\n",
    "    'approx_cost(for two people)': 'approx_cost_two',\n",
    "    'reviews_list': 'customer_reviews',\n",
    "    'menu_item': 'menu_items',\n",
    "    'listed_in(type)': 'listing_category',\n",
    "    'listed_in(city)': 'city'\n",
    "}"
   ]
  }
 ],
 "metadata": {
  "kaggle": {
   "accelerator": "none",
   "dataSources": [
    {
     "datasetId": 6100954,
     "sourceId": 9926045,
     "sourceType": "datasetVersion"
    }
   ],
   "dockerImageVersionId": 30804,
   "isGpuEnabled": false,
   "isInternetEnabled": true,
   "language": "python",
   "sourceType": "notebook"
  },
  "kernelspec": {
   "display_name": "Python 3",
   "language": "python",
   "name": "python3"
  },
  "language_info": {
   "codemirror_mode": {
    "name": "ipython",
    "version": 3
   },
   "file_extension": ".py",
   "mimetype": "text/x-python",
   "name": "python",
   "nbconvert_exporter": "python",
   "pygments_lexer": "ipython3",
   "version": "3.10.14"
  },
  "papermill": {
   "default_parameters": {},
   "duration": 19.296814,
   "end_time": "2024-12-06T19:13:53.949410",
   "environment_variables": {},
   "exception": null,
   "input_path": "__notebook__.ipynb",
   "output_path": "__notebook__.ipynb",
   "parameters": {},
   "start_time": "2024-12-06T19:13:34.652596",
   "version": "2.6.0"
  }
 },
 "nbformat": 4,
 "nbformat_minor": 5
}
